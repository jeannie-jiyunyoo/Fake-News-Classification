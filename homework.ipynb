{
 "cells": [
  {
   "cell_type": "code",
   "execution_count": 28,
   "source": [
    "import numpy as np\n",
    "import pandas as pd \n",
    "from sklearn.feature_extraction.text import CountVectorizer\n",
    "from sklearn.model_selection import train_test_split\n",
    "from sklearn.metrics import accuracy_score\n",
    "from sklearn.tree import DecisionTreeClassifier"
   ],
   "outputs": [],
   "metadata": {}
  },
  {
   "cell_type": "code",
   "execution_count": null,
   "source": [],
   "outputs": [],
   "metadata": {}
  },
  {
   "cell_type": "markdown",
   "source": [
    "# 1.a"
   ],
   "metadata": {}
  },
  {
   "cell_type": "code",
   "execution_count": 96,
   "source": [
    "from itertools import combinations\n",
    "\n"
   ],
   "outputs": [],
   "metadata": {}
  },
  {
   "cell_type": "code",
   "execution_count": 91,
   "source": [
    "\n",
    "\n",
    "def ed_all_pairs(x) :\n",
    "    comb = list(combinations(range(0,x.shape[0]), 2))\n",
    "    ed_list =[]\n",
    "    for i , j  in comb :\n",
    "        ed= np.sum((x[i,] - x[j,])**2)\n",
    "        ed_list.append(ed)\n",
    "    return  np.mean(ed_list ) ,np.std(ed_list )\n",
    "        \n",
    "m_list = []\n",
    "s_list = []\n",
    "for i in range(0,11) :\n",
    "    x = np.random.rand(100,i)\n",
    "    m , s  = ed_all_pairs(x)\n",
    "    m_list.append(m)\n",
    "    s_list.append(s)"
   ],
   "outputs": [],
   "metadata": {}
  },
  {
   "cell_type": "code",
   "execution_count": 95,
   "source": [
    "m"
   ],
   "outputs": [
    {
     "output_type": "execute_result",
     "data": {
      "text/plain": [
       "1.6210320258574078"
      ]
     },
     "metadata": {},
     "execution_count": 95
    }
   ],
   "metadata": {}
  },
  {
   "cell_type": "code",
   "execution_count": 99,
   "source": [
    "import matplotlib.pyplot as plt\n",
    "plt.plot(m_list,label=\"mean\")\n",
    "plt.plot(s_list,label=\"std\")\n",
    "plt.legend()\n",
    "plt.savefig(\"./1_a.png\")\n",
    "plt.show()"
   ],
   "outputs": [
    {
     "output_type": "display_data",
     "data": {
      "image/png": "[encoded data removed]",
      "text/plain": [
       "<Figure size 432x288 with 1 Axes>"
      ]
     },
     "metadata": {
      "needs_background": "light"
     }
    }
   ],
   "metadata": {}
  },
  {
   "cell_type": "markdown",
   "source": [
    "# 1.b"
   ],
   "metadata": {}
  },
  {
   "cell_type": "code",
   "execution_count": 78,
   "source": [
    "e_r = 11*(1/6)\n",
    "var_r = 11*(7/180)\n",
    "e_r , var_r"
   ],
   "outputs": [
    {
     "output_type": "execute_result",
     "data": {
      "text/plain": [
       "(1.8333333333333333, 0.4277777777777778)"
      ]
     },
     "metadata": {},
     "execution_count": 78
    }
   ],
   "metadata": {}
  },
  {
   "cell_type": "code",
   "execution_count": 30,
   "source": [
    "with open(\"./clean_fake.txt\",\"r\") as f :\n",
    "    fake_text = f.read().splitlines() \n",
    "    \n",
    "with open(\"./clean_real.txt\",\"r\") as f :\n",
    "    real_text = f.read().splitlines() \n",
    "    \n",
    "label = [0] * len(fake_text) + [1] * len(real_text)\n",
    "corpus = fake_text + real_text"
   ],
   "outputs": [],
   "metadata": {}
  },
  {
   "cell_type": "code",
   "execution_count": 23,
   "source": [],
   "outputs": [],
   "metadata": {}
  },
  {
   "cell_type": "code",
   "execution_count": 53,
   "source": [
    "def load_data(fake_text , real_text) :\n",
    "    label = np.array([0] * len(fake_text) + [1] * len(real_text)).reshape(-1,1)\n",
    "    corpus = fake_text + real_text\n",
    "    vectorizer = CountVectorizer()\n",
    "    X = vectorizer.fit_transform(corpus)\n",
    "    tr_corpus  , va_corpus , tr_label , va_label = train_test_split(X.toarray(), label, train_size= 0.7,shuffle=True)\n",
    "    va_corpus , te_corpus , va_label , te_label = train_test_split(va_corpus, va_label, train_size= 0.5,shuffle=True)\n",
    "    col_names = vectorizer.get_feature_names() + [\"target_y\"]\n",
    "    train = pd.DataFrame(np.concatenate((tr_corpus,tr_label),axis=1),columns=col_names)\n",
    "    valid = pd.DataFrame(np.concatenate((va_corpus,va_label),axis=1),columns=col_names)\n",
    "    test = pd.DataFrame(np.concatenate((te_corpus,te_label),axis=1),columns=col_names)\n",
    "    return [train, valid, test]"
   ],
   "outputs": [],
   "metadata": {}
  },
  {
   "cell_type": "code",
   "execution_count": 54,
   "source": [
    "train , valid , test = load_data(fake_text=fake_text,real_text=real_text)"
   ],
   "outputs": [],
   "metadata": {}
  },
  {
   "cell_type": "code",
   "execution_count": 55,
   "source": [
    "\n",
    "criterion = [\"gini\",\"entropy\"]\n",
    "max_depth = range(7,12)\n",
    "def select_model(train , valid , max_depth_list , criterion_list) :\n",
    "    trainY = train[\"target_y\"].values\n",
    "    trainX  =train.drop([\"target_y\"],axis=1).values\n",
    "    validY = valid[\"target_y\"].values\n",
    "    validX  =valid.drop([\"target_y\"],axis=1).values\n",
    "    keys = [\"max_depth\", \"criterion\", \"accuray\"]\n",
    "    result_dict = {k:[] for k in  keys}\n",
    "    best_model = None \n",
    "    best_acc = 0\n",
    "    for max_depth in max_depth_list :\n",
    "        for criterion in criterion_list : \n",
    "            model = DecisionTreeClassifier(max_depth=max_depth , criterion=criterion)\n",
    "            model.fit(trainX , trainY)\n",
    "            valid_pred = model.predict(validX)\n",
    "            metric = accuracy_score(validY , valid_pred)\n",
    "            print(f\" max_depth : {max_depth} , criterion : {criterion} , accuray : {metric*100}\")\n",
    "            result_dict[\"max_depth\"]=max_depth\n",
    "            result_dict[\"criterion\"]=criterion\n",
    "            result_dict[\"accuray\"]=metric\n",
    "            if best_acc < metric : \n",
    "                best_model = model \n",
    "                best_acc = metric \n",
    "    # pd.DataFrame([result_dict])\n",
    "    return best_model \n",
    "            \n",
    "best_model = select_model(train ,valid , max_depth , criterion)\n",
    "    "
   ],
   "outputs": [
    {
     "output_type": "stream",
     "name": "stdout",
     "text": [
      " max_depth : 7 , criterion : gini , accuray : 70.20408163265306\n",
      " max_depth : 7 , criterion : entropy , accuray : 69.59183673469389\n",
      " max_depth : 8 , criterion : gini , accuray : 69.79591836734694\n",
      " max_depth : 8 , criterion : entropy , accuray : 68.57142857142857\n",
      " max_depth : 9 , criterion : gini , accuray : 70.61224489795919\n",
      " max_depth : 9 , criterion : entropy , accuray : 69.38775510204081\n",
      " max_depth : 10 , criterion : gini , accuray : 72.0408163265306\n",
      " max_depth : 10 , criterion : entropy , accuray : 69.38775510204081\n",
      " max_depth : 11 , criterion : gini , accuray : 72.85714285714285\n",
      " max_depth : 11 , criterion : entropy , accuray : 70.61224489795919\n"
     ]
    }
   ],
   "metadata": {}
  },
  {
   "cell_type": "code",
   "execution_count": 65,
   "source": [
    "from sklearn import tree\n",
    "import graphviz\n",
    "# text_representation = tree.export_text(best_model)\n",
    "# print(text_representation)"
   ],
   "outputs": [],
   "metadata": {}
  },
  {
   "cell_type": "code",
   "execution_count": 70,
   "source": [
    "feature_names = [i for i in train.columns.tolist() if i != 'target_y']\n",
    "target_names = [\"fake\",\"real\"]"
   ],
   "outputs": [],
   "metadata": {}
  },
  {
   "cell_type": "code",
   "execution_count": 71,
   "source": [
    "\n",
    "dot_data = tree.export_graphviz(best_model, out_file=None, \n",
    "                                max_depth = 2,\n",
    "                                feature_names=feature_names,  \n",
    "                                class_names=[\"fake\",\"real\"] ,\n",
    "                                filled=True)"
   ],
   "outputs": [],
   "metadata": {}
  },
  {
   "cell_type": "code",
   "execution_count": 72,
   "source": [
    "graph = graphviz.Source(dot_data, format=\"png\") \n",
    "graph"
   ],
   "outputs": [
    {
     "output_type": "execute_result",
     "data": {
      "image/svg+xml": "<?xml version=\"1.0\" encoding=\"UTF-8\" standalone=\"no\"?>\n<!DOCTYPE svg PUBLIC \"-//W3C//DTD SVG 1.1//EN\"\n \"http://www.w3.org/Graphics/SVG/1.1/DTD/svg11.dtd\">\n<!-- Generated by graphviz version 2.38.0 (20140413.2041)\n -->\n<!-- Title: Tree Pages: 1 -->\n<svg width=\"598pt\" height=\"401pt\"\n viewBox=\"0.00 0.00 598.00 401.00\" xmlns=\"http://www.w3.org/2000/svg\" xmlns:xlink=\"http://www.w3.org/1999/xlink\">\n<g id=\"graph0\" class=\"graph\" transform=\"scale(1 1) rotate(0) translate(4 397)\">\n<title>Tree</title>\n<polygon fill=\"white\" stroke=\"none\" points=\"-4,4 -4,-397 594,-397 594,4 -4,4\"/>\n<!-- 0 -->\n<g id=\"node1\" class=\"node\"><title>0</title>\n<polygon fill=\"#bedff6\" stroke=\"black\" points=\"363.5,-393 238.5,-393 238.5,-310 363.5,-310 363.5,-393\"/>\n<text text-anchor=\"middle\" x=\"301\" y=\"-377.8\" font-family=\"Times,serif\" font-size=\"14.00\">the &lt;= 0.5</text>\n<text text-anchor=\"middle\" x=\"301\" y=\"-362.8\" font-family=\"Times,serif\" font-size=\"14.00\">gini = 0.481</text>\n<text text-anchor=\"middle\" x=\"301\" y=\"-347.8\" font-family=\"Times,serif\" font-size=\"14.00\">samples = 2286</text>\n<text text-anchor=\"middle\" x=\"301\" y=\"-332.8\" font-family=\"Times,serif\" font-size=\"14.00\">value = [918, 1368]</text>\n<text text-anchor=\"middle\" x=\"301\" y=\"-317.8\" font-family=\"Times,serif\" font-size=\"14.00\">class = real</text>\n</g>\n<!-- 1 -->\n<g id=\"node2\" class=\"node\"><title>1</title>\n<polygon fill=\"#a1d0f3\" stroke=\"black\" points=\"293.5,-274 168.5,-274 168.5,-191 293.5,-191 293.5,-274\"/>\n<text text-anchor=\"middle\" x=\"231\" y=\"-258.8\" font-family=\"Times,serif\" font-size=\"14.00\">donald &lt;= 0.5</text>\n<text text-anchor=\"middle\" x=\"231\" y=\"-243.8\" font-family=\"Times,serif\" font-size=\"14.00\">gini = 0.451</text>\n<text text-anchor=\"middle\" x=\"231\" y=\"-228.8\" font-family=\"Times,serif\" font-size=\"14.00\">samples = 1921</text>\n<text text-anchor=\"middle\" x=\"231\" y=\"-213.8\" font-family=\"Times,serif\" font-size=\"14.00\">value = [661, 1260]</text>\n<text text-anchor=\"middle\" x=\"231\" y=\"-198.8\" font-family=\"Times,serif\" font-size=\"14.00\">class = real</text>\n</g>\n<!-- 0&#45;&gt;1 -->\n<g id=\"edge1\" class=\"edge\"><title>0&#45;&gt;1</title>\n<path fill=\"none\" stroke=\"black\" d=\"M276.714,-309.907C271.447,-301.105 265.822,-291.703 260.383,-282.612\"/>\n<polygon fill=\"black\" stroke=\"black\" points=\"263.381,-280.805 255.243,-274.021 257.374,-284.399 263.381,-280.805\"/>\n<text text-anchor=\"middle\" x=\"249.149\" y=\"-294.567\" font-family=\"Times,serif\" font-size=\"14.00\">True</text>\n</g>\n<!-- 92 -->\n<g id=\"node9\" class=\"node\"><title>92</title>\n<polygon fill=\"#f0b68c\" stroke=\"black\" points=\"430.5,-274 311.5,-274 311.5,-191 430.5,-191 430.5,-274\"/>\n<text text-anchor=\"middle\" x=\"371\" y=\"-258.8\" font-family=\"Times,serif\" font-size=\"14.00\">trumps &lt;= 0.5</text>\n<text text-anchor=\"middle\" x=\"371\" y=\"-243.8\" font-family=\"Times,serif\" font-size=\"14.00\">gini = 0.417</text>\n<text text-anchor=\"middle\" x=\"371\" y=\"-228.8\" font-family=\"Times,serif\" font-size=\"14.00\">samples = 365</text>\n<text text-anchor=\"middle\" x=\"371\" y=\"-213.8\" font-family=\"Times,serif\" font-size=\"14.00\">value = [257, 108]</text>\n<text text-anchor=\"middle\" x=\"371\" y=\"-198.8\" font-family=\"Times,serif\" font-size=\"14.00\">class = fake</text>\n</g>\n<!-- 0&#45;&gt;92 -->\n<g id=\"edge8\" class=\"edge\"><title>0&#45;&gt;92</title>\n<path fill=\"none\" stroke=\"black\" d=\"M325.286,-309.907C330.553,-301.105 336.178,-291.703 341.617,-282.612\"/>\n<polygon fill=\"black\" stroke=\"black\" points=\"344.626,-284.399 346.757,-274.021 338.619,-280.805 344.626,-284.399\"/>\n<text text-anchor=\"middle\" x=\"352.851\" y=\"-294.567\" font-family=\"Times,serif\" font-size=\"14.00\">False</text>\n</g>\n<!-- 2 -->\n<g id=\"node3\" class=\"node\"><title>2</title>\n<polygon fill=\"#cde6f8\" stroke=\"black\" points=\"155.5,-155 36.5,-155 36.5,-72 155.5,-72 155.5,-155\"/>\n<text text-anchor=\"middle\" x=\"96\" y=\"-139.8\" font-family=\"Times,serif\" font-size=\"14.00\">hillary &lt;= 0.5</text>\n<text text-anchor=\"middle\" x=\"96\" y=\"-124.8\" font-family=\"Times,serif\" font-size=\"14.00\">gini = 0.489</text>\n<text text-anchor=\"middle\" x=\"96\" y=\"-109.8\" font-family=\"Times,serif\" font-size=\"14.00\">samples = 1280</text>\n<text text-anchor=\"middle\" x=\"96\" y=\"-94.8\" font-family=\"Times,serif\" font-size=\"14.00\">value = [547, 733]</text>\n<text text-anchor=\"middle\" x=\"96\" y=\"-79.8\" font-family=\"Times,serif\" font-size=\"14.00\">class = real</text>\n</g>\n<!-- 1&#45;&gt;2 -->\n<g id=\"edge2\" class=\"edge\"><title>1&#45;&gt;2</title>\n<path fill=\"none\" stroke=\"black\" d=\"M184.162,-190.907C173.272,-181.469 161.588,-171.343 150.403,-161.649\"/>\n<polygon fill=\"black\" stroke=\"black\" points=\"152.604,-158.925 142.755,-155.021 148.019,-164.215 152.604,-158.925\"/>\n</g>\n<!-- 51 -->\n<g id=\"node6\" class=\"node\"><title>51</title>\n<polygon fill=\"#64b2eb\" stroke=\"black\" points=\"292.5,-155 173.5,-155 173.5,-72 292.5,-72 292.5,-155\"/>\n<text text-anchor=\"middle\" x=\"233\" y=\"-139.8\" font-family=\"Times,serif\" font-size=\"14.00\">le &lt;= 0.5</text>\n<text text-anchor=\"middle\" x=\"233\" y=\"-124.8\" font-family=\"Times,serif\" font-size=\"14.00\">gini = 0.292</text>\n<text text-anchor=\"middle\" x=\"233\" y=\"-109.8\" font-family=\"Times,serif\" font-size=\"14.00\">samples = 641</text>\n<text text-anchor=\"middle\" x=\"233\" y=\"-94.8\" font-family=\"Times,serif\" font-size=\"14.00\">value = [114, 527]</text>\n<text text-anchor=\"middle\" x=\"233\" y=\"-79.8\" font-family=\"Times,serif\" font-size=\"14.00\">class = real</text>\n</g>\n<!-- 1&#45;&gt;51 -->\n<g id=\"edge5\" class=\"edge\"><title>1&#45;&gt;51</title>\n<path fill=\"none\" stroke=\"black\" d=\"M231.694,-190.907C231.837,-182.558 231.989,-173.671 232.136,-165.02\"/>\n<polygon fill=\"black\" stroke=\"black\" points=\"235.636,-165.079 232.307,-155.021 228.637,-164.959 235.636,-165.079\"/>\n</g>\n<!-- 3 -->\n<g id=\"node4\" class=\"node\"><title>3</title>\n<polygon fill=\"#c0c0c0\" stroke=\"black\" points=\"54,-36 0,-36 0,-0 54,-0 54,-36\"/>\n<text text-anchor=\"middle\" x=\"27\" y=\"-14.3\" font-family=\"Times,serif\" font-size=\"14.00\">(...)</text>\n</g>\n<!-- 2&#45;&gt;3 -->\n<g id=\"edge3\" class=\"edge\"><title>2&#45;&gt;3</title>\n<path fill=\"none\" stroke=\"black\" d=\"M65.9363,-71.7615C59.144,-62.5574 52.1184,-53.0372 45.9363,-44.6601\"/>\n<polygon fill=\"black\" stroke=\"black\" points=\"48.5985,-42.3731 39.8444,-36.4051 42.9661,-46.5296 48.5985,-42.3731\"/>\n</g>\n<!-- 40 -->\n<g id=\"node5\" class=\"node\"><title>40</title>\n<polygon fill=\"#c0c0c0\" stroke=\"black\" points=\"126,-36 72,-36 72,-0 126,-0 126,-36\"/>\n<text text-anchor=\"middle\" x=\"99\" y=\"-14.3\" font-family=\"Times,serif\" font-size=\"14.00\">(...)</text>\n</g>\n<!-- 2&#45;&gt;40 -->\n<g id=\"edge4\" class=\"edge\"><title>2&#45;&gt;40</title>\n<path fill=\"none\" stroke=\"black\" d=\"M97.3071,-71.7615C97.5807,-63.2356 97.8629,-54.4385 98.1167,-46.5299\"/>\n<polygon fill=\"black\" stroke=\"black\" points=\"101.619,-46.5122 98.4415,-36.4051 94.6226,-46.2877 101.619,-46.5122\"/>\n</g>\n<!-- 52 -->\n<g id=\"node7\" class=\"node\"><title>52</title>\n<polygon fill=\"#c0c0c0\" stroke=\"black\" points=\"216,-36 162,-36 162,-0 216,-0 216,-36\"/>\n<text text-anchor=\"middle\" x=\"189\" y=\"-14.3\" font-family=\"Times,serif\" font-size=\"14.00\">(...)</text>\n</g>\n<!-- 51&#45;&gt;52 -->\n<g id=\"edge6\" class=\"edge\"><title>51&#45;&gt;52</title>\n<path fill=\"none\" stroke=\"black\" d=\"M213.829,-71.7615C209.634,-62.8481 205.3,-53.6382 201.45,-45.4571\"/>\n<polygon fill=\"black\" stroke=\"black\" points=\"204.616,-43.963 197.191,-36.4051 198.282,-46.9436 204.616,-43.963\"/>\n</g>\n<!-- 91 -->\n<g id=\"node8\" class=\"node\"><title>91</title>\n<polygon fill=\"#c0c0c0\" stroke=\"black\" points=\"288,-36 234,-36 234,-0 288,-0 288,-36\"/>\n<text text-anchor=\"middle\" x=\"261\" y=\"-14.3\" font-family=\"Times,serif\" font-size=\"14.00\">(...)</text>\n</g>\n<!-- 51&#45;&gt;91 -->\n<g id=\"edge7\" class=\"edge\"><title>51&#45;&gt;91</title>\n<path fill=\"none\" stroke=\"black\" d=\"M245.2,-71.7615C247.811,-63.0419 250.507,-54.0385 252.917,-45.9921\"/>\n<polygon fill=\"black\" stroke=\"black\" points=\"256.272,-46.9889 255.788,-36.4051 249.566,-44.9807 256.272,-46.9889\"/>\n</g>\n<!-- 93 -->\n<g id=\"node10\" class=\"node\"><title>93</title>\n<polygon fill=\"#eeae7f\" stroke=\"black\" points=\"426,-155 314,-155 314,-72 426,-72 426,-155\"/>\n<text text-anchor=\"middle\" x=\"370\" y=\"-139.8\" font-family=\"Times,serif\" font-size=\"14.00\">donald &lt;= 0.5</text>\n<text text-anchor=\"middle\" x=\"370\" y=\"-124.8\" font-family=\"Times,serif\" font-size=\"14.00\">gini = 0.387</text>\n<text text-anchor=\"middle\" x=\"370\" y=\"-109.8\" font-family=\"Times,serif\" font-size=\"14.00\">samples = 347</text>\n<text text-anchor=\"middle\" x=\"370\" y=\"-94.8\" font-family=\"Times,serif\" font-size=\"14.00\">value = [256, 91]</text>\n<text text-anchor=\"middle\" x=\"370\" y=\"-79.8\" font-family=\"Times,serif\" font-size=\"14.00\">class = fake</text>\n</g>\n<!-- 92&#45;&gt;93 -->\n<g id=\"edge9\" class=\"edge\"><title>92&#45;&gt;93</title>\n<path fill=\"none\" stroke=\"black\" d=\"M370.653,-190.907C370.582,-182.649 370.507,-173.864 370.434,-165.302\"/>\n<polygon fill=\"black\" stroke=\"black\" points=\"373.932,-164.99 370.346,-155.021 366.932,-165.05 373.932,-164.99\"/>\n</g>\n<!-- 142 -->\n<g id=\"node13\" class=\"node\"><title>142</title>\n<polygon fill=\"#45a3e7\" stroke=\"black\" points=\"542,-155 444,-155 444,-72 542,-72 542,-155\"/>\n<text text-anchor=\"middle\" x=\"493\" y=\"-139.8\" font-family=\"Times,serif\" font-size=\"14.00\">energy &lt;= 0.5</text>\n<text text-anchor=\"middle\" x=\"493\" y=\"-124.8\" font-family=\"Times,serif\" font-size=\"14.00\">gini = 0.105</text>\n<text text-anchor=\"middle\" x=\"493\" y=\"-109.8\" font-family=\"Times,serif\" font-size=\"14.00\">samples = 18</text>\n<text text-anchor=\"middle\" x=\"493\" y=\"-94.8\" font-family=\"Times,serif\" font-size=\"14.00\">value = [1, 17]</text>\n<text text-anchor=\"middle\" x=\"493\" y=\"-79.8\" font-family=\"Times,serif\" font-size=\"14.00\">class = real</text>\n</g>\n<!-- 92&#45;&gt;142 -->\n<g id=\"edge12\" class=\"edge\"><title>92&#45;&gt;142</title>\n<path fill=\"none\" stroke=\"black\" d=\"M413.327,-190.907C422.979,-181.651 433.322,-171.732 443.252,-162.209\"/>\n<polygon fill=\"black\" stroke=\"black\" points=\"445.953,-164.469 450.748,-155.021 441.108,-159.416 445.953,-164.469\"/>\n</g>\n<!-- 94 -->\n<g id=\"node11\" class=\"node\"><title>94</title>\n<polygon fill=\"#c0c0c0\" stroke=\"black\" points=\"369,-36 315,-36 315,-0 369,-0 369,-36\"/>\n<text text-anchor=\"middle\" x=\"342\" y=\"-14.3\" font-family=\"Times,serif\" font-size=\"14.00\">(...)</text>\n</g>\n<!-- 93&#45;&gt;94 -->\n<g id=\"edge10\" class=\"edge\"><title>93&#45;&gt;94</title>\n<path fill=\"none\" stroke=\"black\" d=\"M357.8,-71.7615C355.189,-63.0419 352.493,-54.0385 350.083,-45.9921\"/>\n<polygon fill=\"black\" stroke=\"black\" points=\"353.434,-44.9807 347.212,-36.4051 346.728,-46.9889 353.434,-44.9807\"/>\n</g>\n<!-- 125 -->\n<g id=\"node12\" class=\"node\"><title>125</title>\n<polygon fill=\"#c0c0c0\" stroke=\"black\" points=\"441,-36 387,-36 387,-0 441,-0 441,-36\"/>\n<text text-anchor=\"middle\" x=\"414\" y=\"-14.3\" font-family=\"Times,serif\" font-size=\"14.00\">(...)</text>\n</g>\n<!-- 93&#45;&gt;125 -->\n<g id=\"edge11\" class=\"edge\"><title>93&#45;&gt;125</title>\n<path fill=\"none\" stroke=\"black\" d=\"M389.171,-71.7615C393.366,-62.8481 397.7,-53.6382 401.55,-45.4571\"/>\n<polygon fill=\"black\" stroke=\"black\" points=\"404.718,-46.9436 405.809,-36.4051 398.384,-43.963 404.718,-46.9436\"/>\n</g>\n<!-- 143 -->\n<g id=\"node14\" class=\"node\"><title>143</title>\n<polygon fill=\"#c0c0c0\" stroke=\"black\" points=\"518,-36 464,-36 464,-0 518,-0 518,-36\"/>\n<text text-anchor=\"middle\" x=\"491\" y=\"-14.3\" font-family=\"Times,serif\" font-size=\"14.00\">(...)</text>\n</g>\n<!-- 142&#45;&gt;143 -->\n<g id=\"edge13\" class=\"edge\"><title>142&#45;&gt;143</title>\n<path fill=\"none\" stroke=\"black\" d=\"M492.129,-71.7615C491.946,-63.2356 491.758,-54.4385 491.589,-46.5299\"/>\n<polygon fill=\"black\" stroke=\"black\" points=\"495.085,-46.3279 491.372,-36.4051 488.087,-46.4777 495.085,-46.3279\"/>\n</g>\n<!-- 144 -->\n<g id=\"node15\" class=\"node\"><title>144</title>\n<polygon fill=\"#c0c0c0\" stroke=\"black\" points=\"590,-36 536,-36 536,-0 590,-0 590,-36\"/>\n<text text-anchor=\"middle\" x=\"563\" y=\"-14.3\" font-family=\"Times,serif\" font-size=\"14.00\">(...)</text>\n</g>\n<!-- 142&#45;&gt;144 -->\n<g id=\"edge14\" class=\"edge\"><title>142&#45;&gt;144</title>\n<path fill=\"none\" stroke=\"black\" d=\"M523.499,-71.7615C530.39,-62.5574 537.518,-53.0372 543.789,-44.6601\"/>\n<polygon fill=\"black\" stroke=\"black\" points=\"546.778,-46.5079 549.969,-36.4051 541.174,-42.3126 546.778,-46.5079\"/>\n</g>\n</g>\n</svg>\n",
      "text/plain": [
       "<graphviz.files.Source at 0x7f11e8b1d050>"
      ]
     },
     "metadata": {},
     "execution_count": 72
    }
   ],
   "metadata": {}
  },
  {
   "cell_type": "code",
   "execution_count": 75,
   "source": [
    "import math \n",
    "\n",
    "def calc_entropy(column):\n",
    "    counts = np.bincount(column)\n",
    "    probabilities = counts / len(column)\n",
    "    entropy = 0\n",
    "    for prob in probabilities:\n",
    "        if prob > 0:\n",
    "            entropy += prob * math.log(prob, 2)\n",
    "    return -entropy\n",
    "\n",
    "def compute_information_gain(data, split_name, target_name):\n",
    "    original_entropy = calc_entropy(data[target_name])\n",
    "    values = data[split_name].unique()\n",
    "    left_split = data[data[split_name] == values[0]]\n",
    "    right_split = data[data[split_name] == values[1]]\n",
    "    to_subtract = 0\n",
    "    for subset in [left_split, right_split]:\n",
    "        prob = (subset.shape[0] / data.shape[0]) \n",
    "        to_subtract += prob * calc_entropy(subset[target_name])\n",
    "    return original_entropy - to_subtract"
   ],
   "outputs": [],
   "metadata": {}
  },
  {
   "cell_type": "code",
   "execution_count": 77,
   "source": [
    "gain = compute_information_gain(train,\"the\",\"target_y\")\n",
    "print(\"the\",gain)\n",
    "sev_keywords = [\"donald\",\"trumps\",\"hillary\",\"le\",\"energy\"]\n",
    "for k in sev_keywords :\n",
    "    gain = compute_information_gain(train,\"the\",\"target_y\")\n",
    "    print(k , gain)\n",
    "    "
   ],
   "outputs": [
    {
     "output_type": "stream",
     "name": "stdout",
     "text": [
      "the 0.0703674895008437\n",
      "donald 0.0703674895008437\n",
      "trumps 0.0703674895008437\n",
      "hillary 0.0703674895008437\n",
      "le 0.0703674895008437\n",
      "energy 0.0703674895008437\n"
     ]
    }
   ],
   "metadata": {}
  }
 ],
 "metadata": {
  "orig_nbformat": 4,
  "language_info": {
   "name": "python",
   "version": "3.7.11",
   "mimetype": "text/x-python",
   "codemirror_mode": {
    "name": "ipython",
    "version": 3
   },
   "pygments_lexer": "ipython3",
   "nbconvert_exporter": "python",
   "file_extension": ".py"
  },
  "kernelspec": {
   "name": "python3",
   "display_name": "Python 3.7.11 64-bit ('base': conda)"
  },
  "interpreter": {
   "hash": "d9874bf4d7c31bdc3366a314c5791aa35513b6e3acc17738cd36d472b79632b7"
  }
 },
 "nbformat": 4,
 "nbformat_minor": 2
}